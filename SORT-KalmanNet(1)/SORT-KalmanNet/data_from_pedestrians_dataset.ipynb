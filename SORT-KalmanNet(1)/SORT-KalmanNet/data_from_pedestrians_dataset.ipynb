{
 "cells": [
  {
   "cell_type": "code",
   "execution_count": 1,
   "id": "12a2421d",
   "metadata": {},
   "outputs": [],
   "source": [
    "import pandas as pd"
   ]
  },
  {
   "cell_type": "code",
   "execution_count": 2,
   "id": "42911d2a",
   "metadata": {},
   "outputs": [
    {
     "data": {
      "text/plain": [
       "378"
      ]
     },
     "execution_count": 2,
     "metadata": {},
     "output_type": "execute_result"
    }
   ],
   "source": [
    "df1 = pd.read_csv(\"pedestrians/crosswalk.csv\")\n",
    "df2 = pd.read_csv(\"pedestrians/fourway.csv\")\n",
    "df3 = pd.read_csv(\"pedestrians/night.csv\")\n",
    "#df = pd.concat([df1, df2, df3], axis=0, ignore_index=True)\n",
    "df1.head(3)\n",
    "\n",
    "len(df1)"
   ]
  },
  {
   "cell_type": "code",
   "execution_count": 3,
   "id": "ac6e0fbf",
   "metadata": {},
   "outputs": [],
   "source": [
    "def get_s_r(df):\n",
    "    df['s'] =  df['w'] * df['h']    #scale is just area\n",
    "    df['r'] = df['w'] / df['h']     # ratio\n",
    "    df.drop(['w', 'h'], axis=1, inplace=True) #drop w and h columns as we won't need them\n",
    "    return df"
   ]
  },
  {
   "cell_type": "code",
   "execution_count": 4,
   "id": "701bc076",
   "metadata": {},
   "outputs": [],
   "source": [
    "#df = get_s_r(df)\n",
    "df1 = get_s_r(df1)\n",
    "df2 = get_s_r(df2)\n",
    "df3 = get_s_r(df3)"
   ]
  },
  {
   "cell_type": "code",
   "execution_count": 5,
   "id": "3fef3741",
   "metadata": {},
   "outputs": [
    {
     "data": {
      "text/html": [
       "<div>\n",
       "<style scoped>\n",
       "    .dataframe tbody tr th:only-of-type {\n",
       "        vertical-align: middle;\n",
       "    }\n",
       "\n",
       "    .dataframe tbody tr th {\n",
       "        vertical-align: top;\n",
       "    }\n",
       "\n",
       "    .dataframe thead th {\n",
       "        text-align: right;\n",
       "    }\n",
       "</style>\n",
       "<table border=\"1\" class=\"dataframe\">\n",
       "  <thead>\n",
       "    <tr style=\"text-align: right;\">\n",
       "      <th></th>\n",
       "      <th>x</th>\n",
       "      <th>y</th>\n",
       "      <th>s</th>\n",
       "      <th>r</th>\n",
       "    </tr>\n",
       "  </thead>\n",
       "  <tbody>\n",
       "    <tr>\n",
       "      <th>0</th>\n",
       "      <td>1074</td>\n",
       "      <td>499</td>\n",
       "      <td>2775</td>\n",
       "      <td>0.493333</td>\n",
       "    </tr>\n",
       "    <tr>\n",
       "      <th>1</th>\n",
       "      <td>1072</td>\n",
       "      <td>499</td>\n",
       "      <td>2926</td>\n",
       "      <td>0.493506</td>\n",
       "    </tr>\n",
       "    <tr>\n",
       "      <th>2</th>\n",
       "      <td>1068</td>\n",
       "      <td>497</td>\n",
       "      <td>3362</td>\n",
       "      <td>0.500000</td>\n",
       "    </tr>\n",
       "  </tbody>\n",
       "</table>\n",
       "</div>"
      ],
      "text/plain": [
       "      x    y     s         r\n",
       "0  1074  499  2775  0.493333\n",
       "1  1072  499  2926  0.493506\n",
       "2  1068  497  3362  0.500000"
      ]
     },
     "execution_count": 5,
     "metadata": {},
     "output_type": "execute_result"
    }
   ],
   "source": [
    "df1.head(3)"
   ]
  },
  {
   "cell_type": "code",
   "execution_count": 7,
   "id": "200e2edd",
   "metadata": {},
   "outputs": [],
   "source": [
    "df1[\"delta_x\"] = df1[\"x\"].diff()\n",
    "df1[\"delta_y\"] = df1[\"y\"].diff()\n",
    "df1[\"delta_s\"] = df1[\"s\"].diff()\n",
    "df1[\"delta_r\"] = df1[\"r\"].diff()"
   ]
  },
  {
   "cell_type": "code",
   "execution_count": 8,
   "id": "e45cc62e",
   "metadata": {},
   "outputs": [
    {
     "data": {
      "text/html": [
       "<div>\n",
       "<style scoped>\n",
       "    .dataframe tbody tr th:only-of-type {\n",
       "        vertical-align: middle;\n",
       "    }\n",
       "\n",
       "    .dataframe tbody tr th {\n",
       "        vertical-align: top;\n",
       "    }\n",
       "\n",
       "    .dataframe thead th {\n",
       "        text-align: right;\n",
       "    }\n",
       "</style>\n",
       "<table border=\"1\" class=\"dataframe\">\n",
       "  <thead>\n",
       "    <tr style=\"text-align: right;\">\n",
       "      <th></th>\n",
       "      <th>x</th>\n",
       "      <th>y</th>\n",
       "      <th>s</th>\n",
       "      <th>r</th>\n",
       "      <th>delta_x</th>\n",
       "      <th>delta_y</th>\n",
       "      <th>delta_s</th>\n",
       "      <th>delta_r</th>\n",
       "    </tr>\n",
       "  </thead>\n",
       "  <tbody>\n",
       "    <tr>\n",
       "      <th>count</th>\n",
       "      <td>378.000000</td>\n",
       "      <td>378.000000</td>\n",
       "      <td>378.000000</td>\n",
       "      <td>378.000000</td>\n",
       "      <td>377.000000</td>\n",
       "      <td>377.000000</td>\n",
       "      <td>377.000000</td>\n",
       "      <td>377.000000</td>\n",
       "    </tr>\n",
       "    <tr>\n",
       "      <th>mean</th>\n",
       "      <td>716.632275</td>\n",
       "      <td>483.986772</td>\n",
       "      <td>13388.714286</td>\n",
       "      <td>0.497953</td>\n",
       "      <td>-3.286472</td>\n",
       "      <td>-0.222812</td>\n",
       "      <td>293.137931</td>\n",
       "      <td>0.000018</td>\n",
       "    </tr>\n",
       "    <tr>\n",
       "      <th>std</th>\n",
       "      <td>264.399855</td>\n",
       "      <td>21.132206</td>\n",
       "      <td>17928.585691</td>\n",
       "      <td>0.002445</td>\n",
       "      <td>4.090421</td>\n",
       "      <td>1.497590</td>\n",
       "      <td>1715.405359</td>\n",
       "      <td>0.002717</td>\n",
       "    </tr>\n",
       "    <tr>\n",
       "      <th>min</th>\n",
       "      <td>-165.000000</td>\n",
       "      <td>410.000000</td>\n",
       "      <td>2080.000000</td>\n",
       "      <td>0.492308</td>\n",
       "      <td>-28.000000</td>\n",
       "      <td>-9.000000</td>\n",
       "      <td>-12329.000000</td>\n",
       "      <td>-0.006667</td>\n",
       "    </tr>\n",
       "    <tr>\n",
       "      <th>25%</th>\n",
       "      <td>607.250000</td>\n",
       "      <td>471.000000</td>\n",
       "      <td>3773.750000</td>\n",
       "      <td>0.495327</td>\n",
       "      <td>-4.000000</td>\n",
       "      <td>-1.000000</td>\n",
       "      <td>0.000000</td>\n",
       "      <td>0.000000</td>\n",
       "    </tr>\n",
       "    <tr>\n",
       "      <th>50%</th>\n",
       "      <td>803.000000</td>\n",
       "      <td>494.000000</td>\n",
       "      <td>5460.000000</td>\n",
       "      <td>0.500000</td>\n",
       "      <td>-2.000000</td>\n",
       "      <td>0.000000</td>\n",
       "      <td>0.000000</td>\n",
       "      <td>0.000000</td>\n",
       "    </tr>\n",
       "    <tr>\n",
       "      <th>75%</th>\n",
       "      <td>879.750000</td>\n",
       "      <td>500.000000</td>\n",
       "      <td>16937.250000</td>\n",
       "      <td>0.500000</td>\n",
       "      <td>-1.000000</td>\n",
       "      <td>1.000000</td>\n",
       "      <td>309.000000</td>\n",
       "      <td>0.000021</td>\n",
       "    </tr>\n",
       "    <tr>\n",
       "      <th>max</th>\n",
       "      <td>1074.000000</td>\n",
       "      <td>504.000000</td>\n",
       "      <td>114481.000000</td>\n",
       "      <td>0.500000</td>\n",
       "      <td>1.000000</td>\n",
       "      <td>7.000000</td>\n",
       "      <td>15606.000000</td>\n",
       "      <td>0.007463</td>\n",
       "    </tr>\n",
       "  </tbody>\n",
       "</table>\n",
       "</div>"
      ],
      "text/plain": [
       "                 x           y              s           r     delta_x  \\\n",
       "count   378.000000  378.000000     378.000000  378.000000  377.000000   \n",
       "mean    716.632275  483.986772   13388.714286    0.497953   -3.286472   \n",
       "std     264.399855   21.132206   17928.585691    0.002445    4.090421   \n",
       "min    -165.000000  410.000000    2080.000000    0.492308  -28.000000   \n",
       "25%     607.250000  471.000000    3773.750000    0.495327   -4.000000   \n",
       "50%     803.000000  494.000000    5460.000000    0.500000   -2.000000   \n",
       "75%     879.750000  500.000000   16937.250000    0.500000   -1.000000   \n",
       "max    1074.000000  504.000000  114481.000000    0.500000    1.000000   \n",
       "\n",
       "          delta_y       delta_s     delta_r  \n",
       "count  377.000000    377.000000  377.000000  \n",
       "mean    -0.222812    293.137931    0.000018  \n",
       "std      1.497590   1715.405359    0.002717  \n",
       "min     -9.000000 -12329.000000   -0.006667  \n",
       "25%     -1.000000      0.000000    0.000000  \n",
       "50%      0.000000      0.000000    0.000000  \n",
       "75%      1.000000    309.000000    0.000021  \n",
       "max      7.000000  15606.000000    0.007463  "
      ]
     },
     "execution_count": 8,
     "metadata": {},
     "output_type": "execute_result"
    }
   ],
   "source": [
    "df1.describe()"
   ]
  },
  {
   "cell_type": "code",
   "execution_count": 11,
   "id": "5ee041c1",
   "metadata": {},
   "outputs": [],
   "source": [
    "import torch\n",
    "import numpy as np\n",
    "\n",
    "def get_tensor(df, min_lenght):\n",
    "    df_matrix = df.to_numpy()\n",
    "    df_matrix = df_matrix.transpose()  #kalmanNet shape is [state size, trajectory size]\n",
    "    df_matrix = df_matrix[:,:min_lenght]  #cut all trajectories to the same size as the smaller one\n",
    "    df_tensor = torch.from_numpy(df_matrix)  #get torch tensor\n",
    "    print (df_tensor.shape)\n",
    "    return df_tensor"
   ]
  },
  {
   "cell_type": "code",
   "execution_count": 58,
   "id": "9931c0fa",
   "metadata": {},
   "outputs": [
    {
     "name": "stdout",
     "output_type": "stream",
     "text": [
      "torch.Size([4, 378])\n",
      "torch.Size([4, 378])\n",
      "torch.Size([4, 378])\n",
      "4\n"
     ]
    },
    {
     "data": {
      "text/plain": [
       "tensor([[ 1.0740e+03,  1.0720e+03,  1.0680e+03,  ..., -1.5400e+02,\n",
       "         -1.5700e+02, -1.6500e+02],\n",
       "        [ 4.9900e+02,  4.9900e+02,  4.9700e+02,  ...,  4.1700e+02,\n",
       "          4.2000e+02,  4.1500e+02],\n",
       "        [ 2.7750e+03,  2.9260e+03,  3.3620e+03,  ...,  1.0215e+05,\n",
       "          9.7682e+04,  1.1329e+05],\n",
       "        [ 4.9333e-01,  4.9351e-01,  5.0000e-01,  ...,  5.0000e-01,\n",
       "          5.0000e-01,  5.0000e-01]], dtype=torch.float64)"
      ]
     },
     "execution_count": 58,
     "metadata": {},
     "output_type": "execute_result"
    }
   ],
   "source": [
    "min_lenght = min([len(df1), len(df2), len(df3)])  #min value of all datsets to cut trajectories\n",
    "df1_tensor = get_tensor(df1, min_lenght)\n",
    "df2_tensor = get_tensor(df2, min_lenght)\n",
    "df3_tensor = get_tensor(df3, min_lenght)\n",
    "\n",
    "print (df1_tensor.shape[0])\n",
    "df1_tensor"
   ]
  },
  {
   "cell_type": "code",
   "execution_count": 17,
   "id": "31633c6d",
   "metadata": {},
   "outputs": [
    {
     "data": {
      "text/plain": [
       "tensor([[3.0858]])"
      ]
     },
     "execution_count": 17,
     "metadata": {},
     "output_type": "execute_result"
    }
   ],
   "source": [
    "torch.normal(3, 2, size=(1, 1))"
   ]
  },
  {
   "cell_type": "code",
   "execution_count": 37,
   "id": "f75371a6",
   "metadata": {},
   "outputs": [],
   "source": [
    "def increase_size(df_tensor, final_size, min_lenght):\n",
    "    tensor_ones = torch.ones(final_size - df_tensor.shape[0], min_lenght) # Increase from 4 to 7 using ones\n",
    "    df_increased_tensor = torch.cat((df_tensor, tensor_ones), dim = 0)\n",
    "    print (df_increased_tensor.shape)\n",
    "    return df_increased_tensor"
   ]
  },
  {
   "cell_type": "code",
   "execution_count": 38,
   "id": "ab7badd4",
   "metadata": {},
   "outputs": [
    {
     "name": "stdout",
     "output_type": "stream",
     "text": [
      "torch.Size([7, 378])\n",
      "torch.Size([7, 378])\n",
      "torch.Size([7, 378])\n"
     ]
    }
   ],
   "source": [
    "df1_tensor = increase_size(df1_tensor, 7, min_lenght)\n",
    "df2_tensor = increase_size(df2_tensor, 7, min_lenght)\n",
    "df3_tensor = increase_size(df3_tensor, 7, min_lenght)"
   ]
  },
  {
   "cell_type": "code",
   "execution_count": 39,
   "id": "739f40d7",
   "metadata": {},
   "outputs": [
    {
     "data": {
      "text/plain": [
       "torch.Size([3, 7, 378])"
      ]
     },
     "execution_count": 39,
     "metadata": {},
     "output_type": "execute_result"
    }
   ],
   "source": [
    "target = torch.stack((df1_tensor, df2_tensor, df3_tensor), dim=0)  # create the 3d tensor with trajectories\n",
    "target.shape"
   ]
  },
  {
   "cell_type": "markdown",
   "id": "35fe27ca",
   "metadata": {},
   "source": [
    "### Find state x (input) using matrix H and observation (target)\n",
    "\n",
    "$\\hat{y}_{t|t-1} = H · \\hat{x}_{t|t-1}$\n",
    "\n",
    "#### Dimensions are y[4,378], H[4,7], x[7,378]\n",
    "\n",
    "#### To find X we would need:\n",
    "\n",
    "$\\hat{x}_{t|t-1} = H^{-1} · \\hat{y}_{t|t-1}$\n",
    "\n",
    "#### But H don't have an inverse since it's not squared:"
   ]
  },
  {
   "cell_type": "code",
   "execution_count": 11,
   "id": "e10a668e",
   "metadata": {},
   "outputs": [
    {
     "name": "stdout",
     "output_type": "stream",
     "text": [
      "Can't invert matrix\n"
     ]
    }
   ],
   "source": [
    "H =  torch.tensor([[1, 0, 0, 0, 0, 0, 0],\n",
    "                   [0, 1, 0, 0, 0, 0, 0],\n",
    "                   [0, 0, 1, 0, 0, 0, 0],\n",
    "                   [0, 0, 0, 1, 0, 0, 0]]).float()\n",
    "try:\n",
    "    input_state = torch.inverse(H).matmul(df1_tensor)\n",
    "except:\n",
    "    print (\"Can't invert matrix\")\n"
   ]
  },
  {
   "cell_type": "markdown",
   "id": "afd0c174",
   "metadata": {},
   "source": [
    "# Treating data as input and add noise to get target\n",
    "\n",
    "* Add random noise to every time step \n",
    "* Add noise to random time steps\n",
    "\n",
    "\n"
   ]
  },
  {
   "cell_type": "code",
   "execution_count": 40,
   "id": "67c5a580",
   "metadata": {},
   "outputs": [
    {
     "name": "stdout",
     "output_type": "stream",
     "text": [
      "Input data:\n",
      " tensor([1074., 1072., 1068., 1066., 1062.], dtype=torch.float64)\n",
      "Noise:\n",
      " tensor([4., 1., 3., 2., 1.])\n",
      "Target: \n",
      " tensor([1078., 1073., 1071., 1068., 1063.], dtype=torch.float64)\n"
     ]
    }
   ],
   "source": [
    "noise = torch.round(torch.empty(target.shape).normal_(mean=2,std=2))\n",
    "input_data = torch.add(target,noise)\n",
    "print (\"Input data:\\n\", target[0][0][0:5])\n",
    "print (\"Noise:\\n\", noise[0][0][0:5])\n",
    "print (\"Target: \\n\", input_data[0][0][0:5])"
   ]
  },
  {
   "cell_type": "code",
   "execution_count": 41,
   "id": "f71503ab",
   "metadata": {},
   "outputs": [
    {
     "name": "stdout",
     "output_type": "stream",
     "text": [
      "x:\n",
      " tensor([1078., 1073., 1071., 1068., 1063.], dtype=torch.float64)\n",
      "y:\n",
      " tensor([499., 506., 497., 501., 500.], dtype=torch.float64)\n",
      "s: \n",
      " tensor([2776., 2931., 3361., 3366., 3572.], dtype=torch.float64)\n",
      "r: \n",
      " tensor([1.4933, 1.4935, 0.5000, 2.5000, 5.4941], dtype=torch.float64)\n"
     ]
    }
   ],
   "source": [
    "print (\"x:\\n\", input_data[0][0][0:5])\n",
    "print (\"y:\\n\", input_data[0][1][0:5])\n",
    "print (\"s: \\n\", input_data[0][2][0:5])\n",
    "print (\"r: \\n\", input_data[0][3][0:5])"
   ]
  },
  {
   "cell_type": "code",
   "execution_count": 55,
   "id": "b5c7b041",
   "metadata": {},
   "outputs": [
    {
     "name": "stderr",
     "output_type": "stream",
     "text": [
      "<ipython-input-55-fba1e579cf08>:5: RuntimeWarning: invalid value encountered in sqrt\n",
      "  w = np.sqrt(input_data[trajectory][3]*input_data[trajectory][2])\n"
     ]
    },
    {
     "data": {
      "image/png": "[encoded data removed]",
      "text/plain": [
       "<Figure size 432x288 with 1 Axes>"
      ]
     },
     "metadata": {
      "needs_background": "light"
     },
     "output_type": "display_data"
    }
   ],
   "source": [
    "import matplotlib.pyplot as plt\n",
    "from matplotlib.patches import Rectangle\n",
    "\n",
    "trajectory = 0\n",
    "w = np.sqrt(input_data[trajectory][3]*input_data[trajectory][2])\n",
    "h = input_data[trajectory][2]/w\n",
    "x_bottom_left = input_data[trajectory][0] - w/2\n",
    "y_bottom_left = input_data[trajectory][1] - h/2\n",
    "\n",
    "fig, ax = plt.subplots()\n",
    "ax.plot(input_data[trajectory][0], input_data[trajectory][1], label = \"input\", linestyle=\"-\")\n",
    "\n",
    "for i in range(0, input_data.shape[2]):\n",
    "    step = i\n",
    "    ax.add_patch(Rectangle((x_bottom_left[step], y_bottom_left[step]), w[step], h[step],color=\"orange\", fill=False))\n",
    "\n",
    "plt.show()"
   ]
  },
  {
   "cell_type": "code",
   "execution_count": 56,
   "id": "646a6951",
   "metadata": {},
   "outputs": [],
   "source": [
    "torch.save([target.type(torch.float32), input_data.type(torch.float32), \n",
    "            target.type(torch.float32), input_data.type(torch.float32), \n",
    "            target.type(torch.float32), input_data.type(torch.float32)], \"data_as_input_add_noise_for_target.pt\")"
   ]
  },
  {
   "cell_type": "markdown",
   "id": "e715cc9e",
   "metadata": {},
   "source": [
    "# Treating data as input and using H to get target"
   ]
  },
  {
   "cell_type": "markdown",
   "id": "95de7932",
   "metadata": {},
   "source": [
    "# Use same data for input and target"
   ]
  },
  {
   "cell_type": "code",
   "execution_count": 12,
   "id": "6782c24a",
   "metadata": {},
   "outputs": [],
   "source": [
    "# import sympy\n",
    "# from sympy import (init_printing, Matrix, MatMul, \n",
    "#                    integrate, symbols)\n",
    "\n",
    "# init_printing(use_latex='mathjax')\n",
    "# #dt, phi = symbols('\\Delta{t} \\Phi_s')\n",
    "\n",
    "# # F_k = Matrix([[1, dt, dt**2/2],\n",
    "# #               [0,  1,      dt],\n",
    "# #               [0,  0,       1]])\n",
    "\n",
    "# y = Matrix(df1_tensor.numpy())\n",
    "\n",
    "# H =  Matrix([[1, 0, 0, 0, 0, 0, 0],\n",
    "#              [0, 1, 0, 0, 0, 0, 0],\n",
    "#              [0, 0, 1, 0, 0, 0, 0],\n",
    "#              [0, 0, 0, 1, 0, 0, 0],\n",
    "#              [0, 0, 0, 0, 0, 0, 0],\n",
    "#              [0, 0, 0, 0, 0, 0, 0],\n",
    "#              [0, 0, 0, 0, 0, 0, 0]])\n",
    "\n",
    "# #Q = integrate(F_k * Q_c * F_k.T, (dt, 0, dt))\n",
    "\n",
    "# # factor phi out of the matrix to make it more readable\n",
    "# #Q = Q / phi\n",
    "# MatMul(H, y)"
   ]
  },
  {
   "cell_type": "code",
   "execution_count": null,
   "id": "81550d54",
   "metadata": {},
   "outputs": [],
   "source": []
  }
 ],
 "metadata": {
  "kernelspec": {
   "display_name": "Python 3",
   "language": "python",
   "name": "python3"
  },
  "language_info": {
   "codemirror_mode": {
    "name": "ipython",
    "version": 3
   },
   "file_extension": ".py",
   "mimetype": "text/x-python",
   "name": "python",
   "nbconvert_exporter": "python",
   "pygments_lexer": "ipython3",
   "version": "3.8.8"
  }
 },
 "nbformat": 4,
 "nbformat_minor": 5
}
