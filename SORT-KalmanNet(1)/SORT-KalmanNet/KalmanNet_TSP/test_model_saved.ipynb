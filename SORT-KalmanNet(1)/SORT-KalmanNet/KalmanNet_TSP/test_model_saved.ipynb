{
 "cells": [
  {
   "cell_type": "code",
   "execution_count": 6,
   "id": "e6c578d0-096e-404e-8288-9cc590731d98",
   "metadata": {},
   "outputs": [],
   "source": [
    "from filterpy.kalman import KalmanFilter\n",
    "f = KalmanFilter (dim_x=7, dim_z=4)"
   ]
  },
  {
   "cell_type": "code",
   "execution_count": 7,
   "id": "80461e07-e31f-426e-a918-a3c4efcf180b",
   "metadata": {},
   "outputs": [],
   "source": [
    "#!pip install filterpy"
   ]
  },
  {
   "cell_type": "code",
   "execution_count": 8,
   "id": "ae473955-2e7a-40a2-90dc-88fb22d40e7d",
   "metadata": {},
   "outputs": [
    {
     "data": {
      "text/plain": [
       "array([[1., 0., 0., 0.],\n",
       "       [0., 1., 0., 0.],\n",
       "       [0., 0., 1., 0.],\n",
       "       [0., 0., 0., 1.]])"
      ]
     },
     "execution_count": 8,
     "metadata": {},
     "output_type": "execute_result"
    }
   ],
   "source": [
    "f.R"
   ]
  },
  {
   "cell_type": "code",
   "execution_count": 20,
   "id": "e3eede71-1fcc-48c7-8d9f-40e8770b96a1",
   "metadata": {},
   "outputs": [
    {
     "name": "stdout",
     "output_type": "stream",
     "text": [
      "Data Load\n",
      "trainset size: torch.Size([1000, 7, 100])\n",
      "cvset size: torch.Size([100, 7, 100])\n",
      "testset size: torch.Size([200, 7, 100])\n",
      "1/r2 [dB]:  tensor(10.)\n",
      "1/q2 [dB]:  tensor(30.)\n",
      "KalmanNetNN(\n",
      "  (KG_l1): Linear(in_features=14, out_features=1120, bias=True)\n",
      "  (KG_relu1): ReLU()\n",
      "  (rnn_GRU): GRU(1120, 980)\n",
      "  (KG_l2): Linear(in_features=980, out_features=196, bias=True)\n",
      "  (KG_relu2): ReLU()\n",
      "  (KG_l3): Linear(in_features=196, out_features=49, bias=True)\n",
      ")\n",
      "KNet_7x7_rq020_T100.pt-MSE Test: tensor(276.1209) [dB]\n",
      "KNet_7x7_rq020_T100.pt-STD Test: tensor(inf) [dB]\n",
      "Inference Time: 16.234220266342163\n"
     ]
    }
   ],
   "source": [
    "from datetime import datetime\n",
    "import torch\n",
    "torch.pi = torch.acos(torch.zeros(1)).item() * 2 # which is 3.1415927410125732\n",
    "# import torch.nn as nn\n",
    "from Linear_sysmdl import SystemModel\n",
    "# from Extended_data import DataGen,DataLoader,DataLoader_GPU, Decimate_and_perturbate_Data,Short_Traj_Split\n",
    "#from Extended_data import N_E, N_CV, N_T, F, H, T, T_test, m1_0, m2_0, m, n\n",
    "from Extended_data import N_T, F, H, T, T_test, m1_0, m2_0\n",
    "from Pipeline_KF import Pipeline_KF\n",
    "from KalmanNet_nn import KalmanNetNN\n",
    "import torch\n",
    "torch.pi = torch.acos(torch.zeros(1)).item() * 2 # which is 3.1415927410125732\n",
    "import torch.nn as nn\n",
    "from Linear_sysmdl import SystemModel\n",
    "from Extended_data import DataGen,DataLoader,DataLoader_GPU, Decimate_and_perturbate_Data,Short_Traj_Split\n",
    "from Extended_data import N_E, N_CV, N_T, F, H, T, T_test, m1_0, m2_0, m, n\n",
    "from Pipeline_KF import Pipeline_KF\n",
    "from KalmanNet_nn import KalmanNetNN\n",
    "from datetime import datetime\n",
    "\n",
    "from KalmanFilter_test import KFTest\n",
    "\n",
    "from Plot import Plot_RTS as Plot\n",
    "\n",
    "dataFolderName = 'Simulations/Linear_canonical/H=I' + '/'\n",
    "#dataFileName = ['2x2_rq-1010_T100.pt','2x2_rq020_T100.pt','2x2_rq1030_T100.pt','2x2_rq2040_T100.pt','2x2_rq3050_T100.pt']\n",
    "# print(\"Start Data Gen\")\n",
    "dataFileName = ['7x7_rq020_T100.pt']\n",
    "# DataGen(sys_model, dataFolderName + dataFileName[index], T, T_test,randomInit=False)\n",
    "print(\"Data Load\")\n",
    "[train_input, train_target, cv_input, cv_target, test_input, test_target] = DataLoader_GPU(dataFolderName + dataFileName[0])\n",
    "print(\"trainset size:\",train_target.size())\n",
    "print(\"cvset size:\",cv_target.size())\n",
    "print(\"testset size:\",test_target.size())\n",
    "\n",
    "\n",
    "dataFileName = ['7x7_rq020_T100.pt']\n",
    "modelFolder = 'KNet' + '/'\n",
    "today = datetime.today()\n",
    "now = datetime.now()\n",
    "strToday = today.strftime(\"%m.%d.%y\")\n",
    "strNow = now.strftime(\"%H:%M:%S\")\n",
    "strTime = strToday + \"_\" + strNow\n",
    "r2 = torch.tensor([0.1], dtype=torch.float32)\n",
    "vdB = -20 # ratio v=q2/r2\n",
    "v = 10**(vdB/10)\n",
    "q2 = torch.mul(v,r2)\n",
    "\n",
    "#for index in range(0,len(r2)):\n",
    "\n",
    "print(\"1/r2 [dB]: \", 10 * torch.log10(1/r2[0]))\n",
    "print(\"1/q2 [dB]: \", 10 * torch.log10(1/q2[0]))\n",
    "\n",
    "# True model\n",
    "r = torch.sqrt(r2[0])\n",
    "q = torch.sqrt(q2[0])\n",
    "sys_model = SystemModel(F, q, H, r, T, T_test)\n",
    "sys_model.InitSequence(m1_0, m2_0)\n",
    "\n",
    "KNet_Pipeline = Pipeline_KF(strTime, \"KNet\", \"KNet_\"+ dataFileName[0])\n",
    "KNet_Pipeline.setssModel(sys_model)\n",
    "KNet_model = KalmanNetNN()\n",
    "KNet_model.Build(sys_model)\n",
    "KNet_Pipeline.setModel(KNet_model)\n",
    "\n",
    "KNet_Pipeline.model = torch.load(modelFolder+\"model_KNet_7x7_rq020_T100.pt\", map_location=torch.device('cpu'))\n",
    "print(KNet_Pipeline.model)\n",
    "[KNet_MSE_test_linear_arr, KNet_MSE_test_linear_avg, KNet_MSE_test_dB_avg, KNet_test] = KNet_Pipeline.NNTest(N_T, test_input, test_target)\n"
   ]
  },
  {
   "cell_type": "code",
   "execution_count": null,
   "id": "c683d26f-9821-4424-acbb-08e2554fb83d",
   "metadata": {},
   "outputs": [],
   "source": []
  }
 ],
 "metadata": {
  "environment": {
   "kernel": "python3",
   "name": "common-cu110.m94",
   "type": "gcloud",
   "uri": "gcr.io/deeplearning-platform-release/base-cu110:m94"
  },
  "kernelspec": {
   "display_name": "Python 3",
   "language": "python",
   "name": "python3"
  },
  "language_info": {
   "codemirror_mode": {
    "name": "ipython",
    "version": 3
   },
   "file_extension": ".py",
   "mimetype": "text/x-python",
   "name": "python",
   "nbconvert_exporter": "python",
   "pygments_lexer": "ipython3",
   "version": "3.7.12"
  }
 },
 "nbformat": 4,
 "nbformat_minor": 5
}
