{
 "cells": [
  {
   "cell_type": "code",
   "execution_count": 1,
   "id": "4f07ea2c",
   "metadata": {},
   "outputs": [
    {
     "name": "stdout",
     "output_type": "stream",
     "text": [
      "Running on the CPU\n"
     ]
    }
   ],
   "source": [
    "import torch\n",
    "import numpy as np\n",
    "import pandas as pd\n",
    "\n",
    "if torch.cuda.is_available():\n",
    "    dev = torch.device(\"cuda:0\")  # you can continue going on here, like cuda:1 cuda:2....etc.\n",
    "    torch.set_default_tensor_type('torch.cuda.FloatTensor')\n",
    "else:\n",
    "    dev = torch.device(\"cpu\")\n",
    "    print(\"Running on the CPU\")"
   ]
  },
  {
   "cell_type": "code",
   "execution_count": 2,
   "id": "d28eb300",
   "metadata": {},
   "outputs": [
    {
     "data": {
      "text/plain": [
       "torch.Size([3, 7, 378])"
      ]
     },
     "execution_count": 2,
     "metadata": {},
     "output_type": "execute_result"
    }
   ],
   "source": [
    "# Data was saved in the format training_target, training_input, test_target, test_input, cv_target, cv_input\n",
    "# Since we only had 3 trajectories in the dataset, training, test and cv have the same values\n",
    "# Input have the real data from the pedestrians dataset and target is input + random noise\n",
    "[_, input_data, _, _, _, _] = torch.utils.data.DataLoader(torch.load(\"data_as_input_add_noise_for_target.pt\"), pin_memory = False)\n",
    "input_data = input_data.squeeze().to(dev)\n",
    "input_data.shape"
   ]
  },
  {
   "cell_type": "markdown",
   "id": "d8f93b4d",
   "metadata": {},
   "source": [
    "#### Goal: Generate realistic s and r values for the synthetic data\n",
    "    \n",
    "#### Approach: \n",
    "\n",
    "* Get r and s values from pedestrian dataset;\n",
    "* Cut into 100 size vectors;\n",
    "* Add noise to those trajectories to make 1300 (1000 + 100 + 200);\n",
    "* Use the values for x and y from KalmanNet in the synthetic data but replace the r and s for the new ones."
   ]
  },
  {
   "cell_type": "markdown",
   "id": "e743c4f1",
   "metadata": {},
   "source": [
    "##### Get r and s values from pedestrian dataset;"
   ]
  },
  {
   "cell_type": "code",
   "execution_count": 3,
   "id": "61f1858f",
   "metadata": {},
   "outputs": [
    {
     "name": "stdout",
     "output_type": "stream",
     "text": [
      "Lenght of trajectories:  378 , 1281 and 565\n",
      "Final lenght:  2224\n"
     ]
    },
    {
     "data": {
      "text/html": [
       "<div>\n",
       "<style scoped>\n",
       "    .dataframe tbody tr th:only-of-type {\n",
       "        vertical-align: middle;\n",
       "    }\n",
       "\n",
       "    .dataframe tbody tr th {\n",
       "        vertical-align: top;\n",
       "    }\n",
       "\n",
       "    .dataframe thead th {\n",
       "        text-align: right;\n",
       "    }\n",
       "</style>\n",
       "<table border=\"1\" class=\"dataframe\">\n",
       "  <thead>\n",
       "    <tr style=\"text-align: right;\">\n",
       "      <th></th>\n",
       "      <th>x</th>\n",
       "      <th>y</th>\n",
       "      <th>w</th>\n",
       "      <th>h</th>\n",
       "    </tr>\n",
       "  </thead>\n",
       "  <tbody>\n",
       "    <tr>\n",
       "      <th>0</th>\n",
       "      <td>1074</td>\n",
       "      <td>499</td>\n",
       "      <td>37</td>\n",
       "      <td>75</td>\n",
       "    </tr>\n",
       "    <tr>\n",
       "      <th>1</th>\n",
       "      <td>1072</td>\n",
       "      <td>499</td>\n",
       "      <td>38</td>\n",
       "      <td>77</td>\n",
       "    </tr>\n",
       "    <tr>\n",
       "      <th>2</th>\n",
       "      <td>1068</td>\n",
       "      <td>497</td>\n",
       "      <td>41</td>\n",
       "      <td>82</td>\n",
       "    </tr>\n",
       "  </tbody>\n",
       "</table>\n",
       "</div>"
      ],
      "text/plain": [
       "      x    y   w   h\n",
       "0  1074  499  37  75\n",
       "1  1072  499  38  77\n",
       "2  1068  497  41  82"
      ]
     },
     "execution_count": 3,
     "metadata": {},
     "output_type": "execute_result"
    }
   ],
   "source": [
    "# The previous data has being cut to have the same size as the smaller trajectorie.\n",
    "# Read the dataset again to get the full trajectories.\n",
    "\n",
    "df1 = pd.read_csv(\"pedestrians/crosswalk.csv\")\n",
    "df2 = pd.read_csv(\"pedestrians/fourway.csv\")\n",
    "df3 = pd.read_csv(\"pedestrians/night.csv\")\n",
    "\n",
    "print (\"Lenght of trajectories: \", len(df1), \",\", len(df2), \"and\", len(df3))\n",
    "\n",
    "#I thinks it's ok to concatenate all to form a big trajectory since we are only interested on the s and r values of bb\n",
    "df = pd.concat([df1, df2, df3], axis=0, ignore_index=True)\n",
    "\n",
    "print (\"Final lenght: \", len (df))\n",
    "df.head(3)"
   ]
  },
  {
   "cell_type": "code",
   "execution_count": 4,
   "id": "0a0e3413",
   "metadata": {},
   "outputs": [],
   "source": [
    "def get_s_r(df):\n",
    "    df['s'] =  df['w'] * df['h']    #scale is just area\n",
    "    df['r'] = df['w'] / df['h']     # ratio\n",
    "    df.drop(['w', 'h'], axis=1, inplace=True) #drop w and h columns as we won't need them\n",
    "    return df"
   ]
  },
  {
   "cell_type": "code",
   "execution_count": 5,
   "id": "da0ce28c",
   "metadata": {},
   "outputs": [
    {
     "data": {
      "text/html": [
       "<div>\n",
       "<style scoped>\n",
       "    .dataframe tbody tr th:only-of-type {\n",
       "        vertical-align: middle;\n",
       "    }\n",
       "\n",
       "    .dataframe tbody tr th {\n",
       "        vertical-align: top;\n",
       "    }\n",
       "\n",
       "    .dataframe thead th {\n",
       "        text-align: right;\n",
       "    }\n",
       "</style>\n",
       "<table border=\"1\" class=\"dataframe\">\n",
       "  <thead>\n",
       "    <tr style=\"text-align: right;\">\n",
       "      <th></th>\n",
       "      <th>x</th>\n",
       "      <th>y</th>\n",
       "      <th>s</th>\n",
       "      <th>r</th>\n",
       "    </tr>\n",
       "  </thead>\n",
       "  <tbody>\n",
       "    <tr>\n",
       "      <th>0</th>\n",
       "      <td>1074</td>\n",
       "      <td>499</td>\n",
       "      <td>2775</td>\n",
       "      <td>0.493333</td>\n",
       "    </tr>\n",
       "    <tr>\n",
       "      <th>1</th>\n",
       "      <td>1072</td>\n",
       "      <td>499</td>\n",
       "      <td>2926</td>\n",
       "      <td>0.493506</td>\n",
       "    </tr>\n",
       "    <tr>\n",
       "      <th>2</th>\n",
       "      <td>1068</td>\n",
       "      <td>497</td>\n",
       "      <td>3362</td>\n",
       "      <td>0.500000</td>\n",
       "    </tr>\n",
       "  </tbody>\n",
       "</table>\n",
       "</div>"
      ],
      "text/plain": [
       "      x    y     s         r\n",
       "0  1074  499  2775  0.493333\n",
       "1  1072  499  2926  0.493506\n",
       "2  1068  497  3362  0.500000"
      ]
     },
     "execution_count": 5,
     "metadata": {},
     "output_type": "execute_result"
    }
   ],
   "source": [
    "df = get_s_r(df)\n",
    "df.head(3)"
   ]
  },
  {
   "cell_type": "code",
   "execution_count": 6,
   "id": "5db1d48e",
   "metadata": {},
   "outputs": [
    {
     "data": {
      "text/html": [
       "<div>\n",
       "<style scoped>\n",
       "    .dataframe tbody tr th:only-of-type {\n",
       "        vertical-align: middle;\n",
       "    }\n",
       "\n",
       "    .dataframe tbody tr th {\n",
       "        vertical-align: top;\n",
       "    }\n",
       "\n",
       "    .dataframe thead th {\n",
       "        text-align: right;\n",
       "    }\n",
       "</style>\n",
       "<table border=\"1\" class=\"dataframe\">\n",
       "  <thead>\n",
       "    <tr style=\"text-align: right;\">\n",
       "      <th></th>\n",
       "      <th>x</th>\n",
       "      <th>y</th>\n",
       "      <th>s</th>\n",
       "      <th>r</th>\n",
       "    </tr>\n",
       "  </thead>\n",
       "  <tbody>\n",
       "    <tr>\n",
       "      <th>count</th>\n",
       "      <td>2224.000000</td>\n",
       "      <td>2224.000000</td>\n",
       "      <td>2.224000e+03</td>\n",
       "      <td>2224.000000</td>\n",
       "    </tr>\n",
       "    <tr>\n",
       "      <th>mean</th>\n",
       "      <td>856.615108</td>\n",
       "      <td>463.024730</td>\n",
       "      <td>7.145170e+04</td>\n",
       "      <td>0.498115</td>\n",
       "    </tr>\n",
       "    <tr>\n",
       "      <th>std</th>\n",
       "      <td>450.406667</td>\n",
       "      <td>72.755723</td>\n",
       "      <td>3.966012e+05</td>\n",
       "      <td>0.002529</td>\n",
       "    </tr>\n",
       "    <tr>\n",
       "      <th>min</th>\n",
       "      <td>-165.000000</td>\n",
       "      <td>-375.000000</td>\n",
       "      <td>2.100000e+02</td>\n",
       "      <td>0.476190</td>\n",
       "    </tr>\n",
       "    <tr>\n",
       "      <th>25%</th>\n",
       "      <td>524.750000</td>\n",
       "      <td>457.750000</td>\n",
       "      <td>4.050000e+03</td>\n",
       "      <td>0.496774</td>\n",
       "    </tr>\n",
       "    <tr>\n",
       "      <th>50%</th>\n",
       "      <td>829.500000</td>\n",
       "      <td>482.000000</td>\n",
       "      <td>1.264100e+04</td>\n",
       "      <td>0.499444</td>\n",
       "    </tr>\n",
       "    <tr>\n",
       "      <th>75%</th>\n",
       "      <td>1196.250000</td>\n",
       "      <td>500.000000</td>\n",
       "      <td>4.503750e+04</td>\n",
       "      <td>0.500000</td>\n",
       "    </tr>\n",
       "    <tr>\n",
       "      <th>max</th>\n",
       "      <td>1811.000000</td>\n",
       "      <td>526.000000</td>\n",
       "      <td>1.261024e+07</td>\n",
       "      <td>0.500000</td>\n",
       "    </tr>\n",
       "  </tbody>\n",
       "</table>\n",
       "</div>"
      ],
      "text/plain": [
       "                 x            y             s            r\n",
       "count  2224.000000  2224.000000  2.224000e+03  2224.000000\n",
       "mean    856.615108   463.024730  7.145170e+04     0.498115\n",
       "std     450.406667    72.755723  3.966012e+05     0.002529\n",
       "min    -165.000000  -375.000000  2.100000e+02     0.476190\n",
       "25%     524.750000   457.750000  4.050000e+03     0.496774\n",
       "50%     829.500000   482.000000  1.264100e+04     0.499444\n",
       "75%    1196.250000   500.000000  4.503750e+04     0.500000\n",
       "max    1811.000000   526.000000  1.261024e+07     0.500000"
      ]
     },
     "execution_count": 6,
     "metadata": {},
     "output_type": "execute_result"
    }
   ],
   "source": [
    "df.describe()"
   ]
  },
  {
   "cell_type": "markdown",
   "id": "29a9d659",
   "metadata": {},
   "source": [
    "##### Cut into 100 size vectors"
   ]
  },
  {
   "cell_type": "code",
   "execution_count": 7,
   "id": "076181e0",
   "metadata": {},
   "outputs": [],
   "source": [
    "def get_tensor(df):\n",
    "    df_matrix = df.to_numpy()\n",
    "    df_matrix = df_matrix.transpose()  #kalmanNet shape is [state size, trajectory size]\n",
    "    df_tensor = torch.from_numpy(df_matrix)  #get torch tensor\n",
    "    #print (df_tensor.shape)\n",
    "    return df_tensor"
   ]
  },
  {
   "cell_type": "code",
   "execution_count": 8,
   "id": "4b5376d8",
   "metadata": {},
   "outputs": [
    {
     "name": "stdout",
     "output_type": "stream",
     "text": [
      "torch.Size([22, 4, 100])\n"
     ]
    }
   ],
   "source": [
    "final_tensor = []\n",
    "\n",
    "i = 0\n",
    "while i < len (df):\n",
    "    if len (df) - i < 100:\n",
    "        break\n",
    "    aux = get_tensor(df[i:i+100]) # transform pd into tensor\n",
    "    final_tensor.append(aux)\n",
    "    i+=100\n",
    "\n",
    "final = torch.stack(final_tensor)\n",
    "print (final.shape)"
   ]
  },
  {
   "cell_type": "markdown",
   "id": "d45fafe6",
   "metadata": {},
   "source": [
    "##### Add noise to those trajectories to make 1300 (1000 + 100 + 200)\n",
    "\n",
    "S: integer from 2.100000e+02 to 1.261024e+07\n",
    "\n",
    "R: float from 0.476190 to 0.500000"
   ]
  },
  {
   "cell_type": "code",
   "execution_count": 9,
   "id": "076cde10",
   "metadata": {},
   "outputs": [
    {
     "name": "stdout",
     "output_type": "stream",
     "text": [
      "torch.Size([1300, 4, 100])\n"
     ]
    }
   ],
   "source": [
    "final_tensor_input = []\n",
    "\n",
    "for i in range(0, 1400//22):\n",
    "        \n",
    "    # Noise vector with integer numbers from a normal distribuition for S\n",
    "    noise_s = torch.round(torch.empty([22,1,100]).normal_(mean=2,std=2)) \n",
    "    # Add noise to initial values\n",
    "    final_s = torch.add(final[:,2:3,:], noise_s)\n",
    "    # Replace values by new ones\n",
    "    final[:,2:3,:] = final_s\n",
    "    \n",
    "    # Noise vector with small floating numbers from a normal distribuition  for R\n",
    "    noise_r = torch.empty([22,1,100]).normal_(mean=0,std=0.02)\n",
    "    # Add noise to initial values\n",
    "    final_r = torch.add(final[:,3:4,:], noise_r)\n",
    "    # Replace values by new ones\n",
    "    final[:,3:4,:] = final_r\n",
    "    \n",
    "    final_tensor_input.append(final)\n",
    "\n",
    "\n",
    "final_input = torch.concat(final_tensor_input, dim=0)\n",
    "final_input = final_input[:1300,:,:]\n",
    "print (final_input.shape)"
   ]
  },
  {
   "cell_type": "code",
   "execution_count": 10,
   "id": "25254821",
   "metadata": {},
   "outputs": [
    {
     "name": "stdout",
     "output_type": "stream",
     "text": [
      "torch.Size([1300, 4, 100])\n"
     ]
    }
   ],
   "source": [
    "final_tensor_target = []\n",
    "\n",
    "for i in range(0, 1400//22):\n",
    "        \n",
    "    # Noise vector with integer numbers from a normal distribuition for S\n",
    "    noise_s = torch.round(torch.empty([22,1,100]).normal_(mean=2,std=2)) \n",
    "    # Add noise to initial values\n",
    "    final_s = torch.add(final[:,2:3,:], noise_s)\n",
    "    # Replace values by new ones\n",
    "    final[:,2:3,:] = final_s\n",
    "    \n",
    "    # Noise vector with small floating numbers from a normal distribuition  for R\n",
    "    noise_r = torch.empty([22,1,100]).normal_(mean=0,std=0.02)\n",
    "    # Add noise to initial values\n",
    "    final_r = torch.add(final[:,3:4,:], noise_r)\n",
    "    # Replace values by new ones\n",
    "    final[:,3:4,:] = final_r\n",
    "    \n",
    "    final_tensor_target.append(final)\n",
    "\n",
    "\n",
    "final_target = torch.concat(final_tensor_target, dim=0)\n",
    "final_target = final_target[:1300,:,:]\n",
    "print (final_target.shape)"
   ]
  },
  {
   "cell_type": "code",
   "execution_count": 11,
   "id": "24eb0308",
   "metadata": {},
   "outputs": [],
   "source": [
    "# Split data in train, test and input\n",
    "train_final_target, cv_final_target, test_final_target = torch.split(final_target, [1000,100,200])\n",
    "train_final_input, cv_final_input, test_final_input = torch.split(final_target, [1000,100,200])"
   ]
  },
  {
   "cell_type": "markdown",
   "id": "b0b4fd01",
   "metadata": {},
   "source": [
    "##### Use the values for x and y from KalmanNet in the synthetic data but replace the r and s for the new ones."
   ]
  },
  {
   "cell_type": "code",
   "execution_count": 12,
   "id": "96c22ec5",
   "metadata": {},
   "outputs": [],
   "source": [
    "path = \"KalmanNet-Dataset/Simulations/Linear_canonical/\"\n",
    "filename = \"7x7_rq020_T100_mean_0_vdb_20_changed_x_y_distrib.pt\"\n",
    "\n",
    "[train_input, train_target, cv_input, cv_target, test_input, test_target] = torch.utils.data.DataLoader(torch.load(path+filename), pin_memory = False)\n",
    "\n",
    "train_input = train_input.squeeze().to(dev)\n",
    "train_target = train_target.squeeze().to(dev)\n",
    "cv_input = cv_input.squeeze().to(dev)\n",
    "cv_target = cv_target.squeeze().to(dev)\n",
    "test_input = test_input.squeeze().to(dev)\n",
    "test_target = test_target.squeeze().to(dev)"
   ]
  },
  {
   "cell_type": "code",
   "execution_count": 13,
   "id": "e4c5c237",
   "metadata": {},
   "outputs": [],
   "source": [
    "train_input[:, 2:4, :] = train_final_input[:, 2:4, :]\n",
    "train_target[:, 2:4, :] = train_final_target[:, 2:4, :]\n",
    "cv_input[:, 2:4, :] = cv_final_input[:, 2:4, :]\n",
    "cv_target[:, 2:4, :] = cv_final_target[:, 2:4, :]\n",
    "test_input[:, 2:4, :] = test_final_input[:, 2:4, :]\n",
    "test_target[:, 2:4, :] = test_final_target[:, 2:4, :]"
   ]
  },
  {
   "cell_type": "code",
   "execution_count": 14,
   "id": "ece3b8cd",
   "metadata": {},
   "outputs": [],
   "source": [
    "torch.save([train_input.type(torch.float32), train_target.type(torch.float32), \n",
    "            cv_input.type(torch.float32), cv_target.type(torch.float32), \n",
    "            test_input.type(torch.float32), test_target.type(torch.float32)], \"synthetic_bb.pt\")"
   ]
  },
  {
   "cell_type": "code",
   "execution_count": 15,
   "id": "05d5d59e",
   "metadata": {},
   "outputs": [
    {
     "name": "stderr",
     "output_type": "stream",
     "text": [
      "<ipython-input-15-3753e4de42ed>:5: RuntimeWarning: invalid value encountered in sqrt\n",
      "  w = np.sqrt(train_input[trajectory][3]*train_input[trajectory][2])\n"
     ]
    },
    {
     "data": {
      "image/png": "[encoded data removed]",
      "text/plain": [
       "<Figure size 432x288 with 1 Axes>"
      ]
     },
     "metadata": {
      "needs_background": "light"
     },
     "output_type": "display_data"
    }
   ],
   "source": [
    "import matplotlib.pyplot as plt\n",
    "from matplotlib.patches import Rectangle\n",
    "\n",
    "trajectory = 200\n",
    "w = np.sqrt(train_input[trajectory][3]*train_input[trajectory][2])\n",
    "h = train_input[trajectory][2]/w\n",
    "x_bottom_left = train_input[trajectory][0] - w/2\n",
    "y_bottom_left = train_input[trajectory][1] - h/2\n",
    "\n",
    "fig, ax = plt.subplots()\n",
    "ax.plot(train_input[trajectory][0], train_input[trajectory][1], label = \"input\", linestyle=\"-\")\n",
    "\n",
    "for i in range(0, train_input.shape[2]):\n",
    "    step = i\n",
    "    ax.add_patch(Rectangle((x_bottom_left[step], y_bottom_left[step]), w[step], h[step],color=\"orange\", fill=False))\n",
    "\n",
    "plt.show()"
   ]
  },
  {
   "cell_type": "code",
   "execution_count": null,
   "id": "265fab69",
   "metadata": {},
   "outputs": [],
   "source": []
  }
 ],
 "metadata": {
  "kernelspec": {
   "display_name": "Python 3",
   "language": "python",
   "name": "python3"
  },
  "language_info": {
   "codemirror_mode": {
    "name": "ipython",
    "version": 3
   },
   "file_extension": ".py",
   "mimetype": "text/x-python",
   "name": "python",
   "nbconvert_exporter": "python",
   "pygments_lexer": "ipython3",
   "version": "3.8.8"
  }
 },
 "nbformat": 4,
 "nbformat_minor": 5
}
